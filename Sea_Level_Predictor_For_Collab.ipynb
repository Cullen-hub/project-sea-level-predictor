{
  "nbformat": 4,
  "nbformat_minor": 0,
  "metadata": {
    "colab": {
      "provenance": [],
      "authorship_tag": "ABX9TyPdgFsIr6OEUj1lC+nNv1cf",
      "include_colab_link": true
    },
    "kernelspec": {
      "name": "python3",
      "display_name": "Python 3"
    },
    "language_info": {
      "name": "python"
    }
  },
  "cells": [
    {
      "cell_type": "markdown",
      "metadata": {
        "id": "view-in-github",
        "colab_type": "text"
      },
      "source": [
        "<a href=\"https://colab.research.google.com/github/Cullen-hub/project-sea-level-predictor/blob/main/Sea_Level_Predictor_For_Collab.ipynb\" target=\"_parent\"><img src=\"https://colab.research.google.com/assets/colab-badge.svg\" alt=\"Open In Colab\"/></a>"
      ]
    },
    {
      "cell_type": "code",
      "execution_count": 1,
      "metadata": {
        "colab": {
          "base_uri": "https://localhost:8080/"
        },
        "id": "wJt6FEgUnsm8",
        "outputId": "f793af7f-3ce5-4b9f-d3ab-892adee15038"
      },
      "outputs": [
        {
          "output_type": "stream",
          "name": "stdout",
          "text": [
            "Cloning into 'project-sea-level-predictor'...\n",
            "remote: Enumerating objects: 42, done.\u001b[K\n",
            "remote: Counting objects: 100% (21/21), done.\u001b[K\n",
            "remote: Compressing objects: 100% (16/16), done.\u001b[K\n",
            "remote: Total 42 (delta 11), reused 5 (delta 5), pack-reused 21 (from 2)\u001b[K\n",
            "Receiving objects: 100% (42/42), 19.84 KiB | 2.48 MiB/s, done.\n",
            "Resolving deltas: 100% (13/13), done.\n",
            "/content/project-sea-level-predictor\n"
          ]
        }
      ],
      "source": [
        "!git clone https://github.com/Cullen-hub/project-sea-level-predictor.git\n",
        "%cd project-sea-level-predictor"
      ]
    },
    {
      "cell_type": "code",
      "source": [
        "%%writefile sea_level_predictor.py\n",
        "import pandas as pd\n",
        "import matplotlib.pyplot as plt\n",
        "from scipy.stats import linregress\n",
        "\n",
        "def draw_plot():\n",
        "    # Read data from file\n",
        "    df = pd.read_csv('epa-sea-level.csv')\n",
        "\n",
        "    # Create scatter plot\n",
        "    plt.scatter(df['Year'], df['CSIRO Adjusted Sea Level'])\n",
        "\n",
        "    # Create first line of best fit\n",
        "    slope, intercept, r_value, p_value, std_err  = linregress(df['Year'], df['CSIRO Adjusted Sea Level'])\n",
        "    min_year = df['Year'].min()\n",
        "    max_year = 2050\n",
        "    x_values = list(range(min_year, max_year + 1))\n",
        "    line_of_bf = [slope * x + intercept for x in x_values]\n",
        "    plt.plot(x_values, line_of_bf, 'r')\n",
        "\n",
        "\n",
        "    # Create the second line of best fit\n",
        "    df_2000 = df[df['Year'] >= 2000]\n",
        "    slope, intercept, r_value, p_value, std_err  = linregress(df_2000['Year'], df_2000['CSIRO Adjusted Sea Level'])\n",
        "    min_year = df_2000['Year'].min()\n",
        "    max_year = 2050\n",
        "    x_values = list(range(min_year, max_year + 1))\n",
        "    line_of_bf = [slope * x + intercept for x in x_values]\n",
        "    plt.plot(x_values, line_of_bf, 'r')\n",
        "\n",
        "\n",
        "\n",
        "    # Add labels and title\n",
        "    plt.xlabel('Year')\n",
        "    plt.ylabel('Sea Level (inches)')\n",
        "    plt.title('Rise in Sea Level')\n",
        "\n",
        "    # Save plot and return data for testing (DO NOT MODIFY)\n",
        "    plt.savefig('sea_level_plot.png')\n",
        "    return plt.gca()\n"
      ],
      "metadata": {
        "colab": {
          "base_uri": "https://localhost:8080/"
        },
        "id": "ogHa-yDEoC7P",
        "outputId": "7fd2aff0-493a-43c1-af2d-e6d7fa0aaf7c"
      },
      "execution_count": 2,
      "outputs": [
        {
          "output_type": "stream",
          "name": "stdout",
          "text": [
            "Overwriting sea_level_predictor.py\n"
          ]
        }
      ]
    },
    {
      "cell_type": "code",
      "source": [
        "!python main.py"
      ],
      "metadata": {
        "colab": {
          "base_uri": "https://localhost:8080/"
        },
        "id": "OnZJS4Skw9be",
        "outputId": "8d1c46aa-5b42-447c-c039-dffc68159dcd"
      },
      "execution_count": 3,
      "outputs": [
        {
          "output_type": "stream",
          "name": "stdout",
          "text": [
            "....\n",
            "----------------------------------------------------------------------\n",
            "Ran 4 tests in 0.487s\n",
            "\n",
            "OK\n"
          ]
        }
      ]
    }
  ]
}